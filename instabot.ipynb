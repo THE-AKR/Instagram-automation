{
  "nbformat": 4,
  "nbformat_minor": 0,
  "metadata": {
    "colab": {
      "name": "instabot.ipynb",
      "provenance": [],
      "collapsed_sections": [],
      "authorship_tag": "ABX9TyMVjuUjymrvvJhARYI1yPCQ",
      "include_colab_link": true
    },
    "kernelspec": {
      "name": "python3",
      "display_name": "Python 3"
    },
    "language_info": {
      "name": "python"
    }
  },
  "cells": [
    {
      "cell_type": "markdown",
      "metadata": {
        "id": "view-in-github",
        "colab_type": "text"
      },
      "source": [
        "<a href=\"https://colab.research.google.com/github/THE-AKR/Instagram-automation/blob/main/instabot.ipynb\" target=\"_parent\"><img src=\"https://colab.research.google.com/assets/colab-badge.svg\" alt=\"Open In Colab\"/></a>"
      ]
    },
    {
      "cell_type": "code",
      "execution_count": null,
      "metadata": {
        "id": "HyHNHUa_o1ve"
      },
      "outputs": [],
      "source": [
        "pip install instabot"
      ]
    },
    {
      "cell_type": "code",
      "source": [
        "from instabot import Bot\n",
        "bot= Bot()\n"
      ],
      "metadata": {
        "colab": {
          "base_uri": "https://localhost:8080/"
        },
        "id": "v9-_ZZjtpcfr",
        "outputId": "03ce215b-c49e-4527-ab9a-9113da17795f"
      },
      "execution_count": 2,
      "outputs": [
        {
          "output_type": "stream",
          "name": "stderr",
          "text": [
            "2022-03-07 18:31:34,804 - INFO - Instabot version: 0.117.0 Started\n"
          ]
        }
      ]
    },
    {
      "cell_type": "code",
      "source": [
        "bot.login(username=\"\", password=\"\")"
      ],
      "metadata": {
        "id": "6yTXHOe0prWp"
      },
      "execution_count": 3,
      "outputs": []
    },
    {
      "cell_type": "code",
      "source": [
        "bot.follow(\"username whom you have to follow\") #follow \n",
        "bot.unfollow(\"username\") #unfollow\n"
      ],
      "metadata": {
        "id": "I0dKOe10rZWy"
      },
      "execution_count": null,
      "outputs": []
    },
    {
      "cell_type": "code",
      "source": [
        "bot.upload_photo(\"photo path\", captions=\"caption\") #upload pic \n",
        "bot.send_message(\"message that you want to send\", [\"username1\",\"username2\",\"..upto many\"])"
      ],
      "metadata": {
        "id": "A_xKizX_rrfI"
      },
      "execution_count": null,
      "outputs": []
    },
    {
      "cell_type": "code",
      "source": [
        "Followers= bot.get_user_followers(\"username\") #count the number of followers\n",
        "for Follower in Followers:\n",
        "  print(bot.get_user_info(Follower)) #info about followers with their profile url\n"
      ],
      "metadata": {
        "id": "V85f-kHnsNTf"
      },
      "execution_count": null,
      "outputs": []
    },
    {
      "cell_type": "code",
      "source": [
        "Following= bot.get_user_following(\"username\") #count the number of following\n",
        "for Followings in Following:\n",
        "  print(bot.get_user_info(Followings)) #info about followers with their profile url\n"
      ],
      "metadata": {
        "id": "-CxnYl_2s8hz"
      },
      "execution_count": null,
      "outputs": []
    }
  ]
}